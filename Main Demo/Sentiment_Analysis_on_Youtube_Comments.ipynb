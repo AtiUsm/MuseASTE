{
  "nbformat": 4,
  "nbformat_minor": 0,
  "metadata": {
    "colab": {
      "provenance": []
    },
    "kernelspec": {
      "name": "python3",
      "display_name": "Python 3"
    },
    "language_info": {
      "name": "python"
    }
  },
  "cells": [
    {
      "cell_type": "code",
      "metadata": {
        "id": "7oPIGuzNtF0I"
      },
      "source": [
        "import os\n",
        "from googleapiclient.discovery import build\n",
        "import time\n",
        "import json\n",
        "import re\n",
        "#from vaderSentiment.vaderSentiment import SentimentIntensityAnalyzer\n",
        "\n"
      ],
      "execution_count": 1,
      "outputs": []
    },
    {
      "cell_type": "markdown",
      "metadata": {
        "id": "bfJt6Spv4v8f"
      },
      "source": [
        "Loading Data and data variables"
      ]
    },
    {
      "cell_type": "code",
      "metadata": {
        "id": "vxJ0Gtl12I94",
        "colab": {
          "base_uri": "https://localhost:8080/"
        },
        "outputId": "7da44bb7-624b-4e1a-fad7-32204f27d4d6"
      },
      "source": [
        "import re\n",
        "def clean_comments(comments):\n",
        "    comments = ''.join([i for i in comments if not i.isdigit()])\n",
        "    comments = re.sub(\"[^a-zA-Z\\s]\",\"\",comments)\n",
        "    comments = re.sub(r\"http\\S+\",'', comments)\n",
        "    comments = re.sub(r\"www\\S+\",'', comments)\n",
        "    comments=comments.lower().strip()\n",
        "    return comments"
      ],
      "execution_count": 9,
      "outputs": [
        {
          "output_type": "stream",
          "name": "stderr",
          "text": [
            "<>:4: SyntaxWarning: invalid escape sequence '\\s'\n",
            "<>:4: SyntaxWarning: invalid escape sequence '\\s'\n",
            "/tmp/ipython-input-1531454153.py:4: SyntaxWarning: invalid escape sequence '\\s'\n",
            "  comments = re.sub(\"[^a-zA-Z\\s]\",\"\",comments)\n"
          ]
        }
      ]
    },
    {
      "cell_type": "code",
      "source": [],
      "metadata": {
        "colab": {
          "base_uri": "https://localhost:8080/"
        },
        "id": "h6xmG3LtWoTo",
        "outputId": "c651ebd8-a640-4d6a-efcd-46bd012dd112"
      },
      "execution_count": 18,
      "outputs": [
        {
          "output_type": "execute_result",
          "data": {
            "text/plain": [
              "38"
            ]
          },
          "metadata": {},
          "execution_count": 18
        }
      ]
    },
    {
      "cell_type": "code",
      "metadata": {
        "colab": {
          "base_uri": "https://localhost:8080/"
        },
        "id": "54fV6vL2J-j1",
        "outputId": "d8436a98-796e-453a-a402-54bc66d3601b"
      },
      "source": [
        "\n",
        "import nltk\n",
        "nltk.download('vader_lexicon')\n",
        "nltk.download('stopwords')\n",
        "from nltk.corpus import stopwords\n",
        "from nltk.sentiment.vader import SentimentIntensityAnalyzer\n",
        "nltk.download('punkt')\n",
        "from nltk import sent_tokenize\n",
        "from nltk.tokenize import word_tokenize"
      ],
      "execution_count": 11,
      "outputs": [
        {
          "output_type": "stream",
          "name": "stderr",
          "text": [
            "[nltk_data] Downloading package vader_lexicon to /root/nltk_data...\n",
            "[nltk_data] Downloading package stopwords to /root/nltk_data...\n",
            "[nltk_data]   Unzipping corpora/stopwords.zip.\n",
            "[nltk_data] Downloading package punkt to /root/nltk_data...\n",
            "[nltk_data]   Unzipping tokenizers/punkt.zip.\n"
          ]
        }
      ]
    },
    {
      "cell_type": "code",
      "metadata": {
        "id": "6NlV0L5KDRkK"
      },
      "source": [
        "from nltk.corpus import stopwords\n",
        "from nltk.tokenize import word_tokenize\n",
        "\n",
        "def remove_stopwords(comment):\n",
        "\n",
        "  stop_words = set(stopwords.words('english'))\n",
        "\n",
        "  word_tokens = word_tokenize(comment)\n",
        "\n",
        "  filtered_sentence = [w for w in word_tokens if not w.lower() in stop_words]\n",
        "\n",
        "  l=(list)(filtered_sentence)\n",
        "  print(l)"
      ],
      "execution_count": 12,
      "outputs": []
    },
    {
      "cell_type": "code",
      "metadata": {
        "id": "FgyQ3wYI1n7H"
      },
      "source": [
        "def generate_sentiment(comment):\n",
        "    analyser = SentimentIntensityAnalyzer()\n",
        "    sa = analyser.polarity_scores(comment)['compound']\n",
        "    #print(f\"Sentiment analysis score : {sa}\")\n",
        "    return sa\n"
      ],
      "execution_count": 13,
      "outputs": []
    },
    {
      "cell_type": "code",
      "metadata": {
        "colab": {
          "base_uri": "https://localhost:8080/"
        },
        "id": "xjM6yEVl4utg",
        "outputId": "dc4c9091-7b13-4e02-fed1-15aa1d09ebb3"
      },
      "source": [
        "import pandas as pd\n",
        "import statistics\n",
        "vidscores=[]\n",
        "f= pd.read_csv(r\"videoComments.csv\")\n",
        "Comments= f[['comments','VideoId']].groupby(\"VideoId\")\n",
        "#print(type(Comments))\n",
        "for item in Comments:\n",
        "  #print(type(item[1]))\n",
        "  x=item[1]\n",
        "\n",
        "  vidComments=(list)(x[\"comments\"])\n",
        "  scores=[]\n",
        "  for i in range(len(vidComments)):\n",
        "    comment=vidComments[i]\n",
        "    try:\n",
        "      cleanComment=clean_comments(comment)\n",
        "    except TypeError:\n",
        "      print(cleanComment)\n",
        "      continue\n",
        "    score=generate_sentiment(cleanComment)\n",
        "    scores.append(score)\n",
        "  vidscores.append({item[0],round(statistics.mean(scores),2)})\n",
        "  print(f\"averagescore for video {item[0]} is {round(statistics.mean(scores),2)} \")\n",
        "print(vidscores)\n",
        "\n",
        "print(\"Total Number of comments:\", len(vidComments))\n",
        "pos= [float(s) for s in scores if s >0]\n",
        "print(\"Number of Positive Comments:\", len(pos))\n",
        "neg= [float(s) for s in scores if s<0]\n",
        "print(\"Number of Negative Comments:\", len(neg))\n",
        "neu= [float(s) for s in scores if s==0]\n",
        "print(\"Number of Neutral Comments:\", len(neu))"
      ],
      "execution_count": 22,
      "outputs": [
        {
          "output_type": "stream",
          "name": "stdout",
          "text": [
            "averagescore for video hw8wtDVYtaA is 0.11 \n",
            "[{0.11, 'hw8wtDVYtaA'}]\n",
            "Total Number of comments: 38\n",
            "Number of Positive Comments: 14\n",
            "Number of Negative Comments: 10\n",
            "Number of Neutral Comments: 14\n"
          ]
        }
      ]
    },
    {
      "cell_type": "code",
      "source": [],
      "metadata": {
        "id": "9MiNc21W6QeU"
      },
      "execution_count": null,
      "outputs": []
    }
  ]
}